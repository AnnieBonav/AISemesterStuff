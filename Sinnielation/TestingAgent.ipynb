{
 "cells": [
  {
   "cell_type": "code",
   "execution_count": 8,
   "metadata": {},
   "outputs": [],
   "source": [
    "from Agent import Agent\n",
    "from Classes import Action, Needs\n",
    "\n",
    "import numpy as np\n",
    "import json"
   ]
  },
  {
   "cell_type": "code",
   "execution_count": 9,
   "metadata": {},
   "outputs": [],
   "source": [
    "def save_actions_history(agent: Agent, filename: str):\n",
    "    actions_json = json.dumps(agent.actions_history)\n",
    "    with open(filename, \"w\") as f:\n",
    "        f.write(actions_json)\n",
    "        # for action in agent.actions_history:\n",
    "            # f.write(f\"{action}\\n\")"
   ]
  },
  {
   "cell_type": "code",
   "execution_count": 12,
   "metadata": {},
   "outputs": [
    {
     "name": "stdout",
     "output_type": "stream",
     "text": [
      "Perry - Hunger: 0, Tiredness: 0, Bladder: 0\n",
      "Perry - Hunger: 4.167, Tiredness: 1.042, Bladder: 5.556\n",
      "{\"name\": \"eat_meal\", \"value\": 20, \"time_in_10_min\": 3}\n",
      "Perry - Hunger: 12.501, Tiredness: 4.168, Bladder: 22.224\n"
     ]
    }
   ],
   "source": [
    "eat_meal = Action(\"eat_meal\", 20, 3)\n",
    "go_bathroom = Action(\"go_bathroom\", 10, 1)\n",
    "nap = Action(\"nap\", 30, 6)\n",
    "\n",
    "perry = Agent(\"Perry\")\n",
    "print(perry)\n",
    "\n",
    "perry.tick_10_min(1)\n",
    "print(perry)\n",
    "\n",
    "chosen_activity = perry.choose_activity()\n",
    "match chosen_activity:\n",
    "    case Needs.HL:\n",
    "        perry.eat(eat_meal)\n",
    "    case Needs.BL:\n",
    "        perry.go_bathroom(go_bathroom)\n",
    "    case Needs.TL:\n",
    "        perry.sleep(nap)\n",
    "\n",
    "print(perry)\n",
    "\n",
    "save_actions_history(perry, \"actions_history.json\")\n",
    "\n"
   ]
  }
 ],
 "metadata": {
  "kernelspec": {
   "display_name": "Simmulation",
   "language": "python",
   "name": "python3"
  },
  "language_info": {
   "codemirror_mode": {
    "name": "ipython",
    "version": 3
   },
   "file_extension": ".py",
   "mimetype": "text/x-python",
   "name": "python",
   "nbconvert_exporter": "python",
   "pygments_lexer": "ipython3",
   "version": "3.11.9"
  }
 },
 "nbformat": 4,
 "nbformat_minor": 2
}
