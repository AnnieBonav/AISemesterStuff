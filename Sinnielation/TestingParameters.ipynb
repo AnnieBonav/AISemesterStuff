{
 "cells": [
  {
   "cell_type": "code",
   "execution_count": null,
   "metadata": {},
   "outputs": [],
   "source": [
    "import math\n",
    "import matplotlib.pyplot as plt\n",
    "import numpy as np"
   ]
  },
  {
   "cell_type": "code",
   "execution_count": null,
   "metadata": {},
   "outputs": [],
   "source": [
    "import numpy as np\n",
    "\n",
    "def softmax(x):\n",
    "    e_x = np.exp(x - np.max(x))\n",
    "    return e_x / e_x.sum()\n",
    "\n",
    "def print_function(f, x_min, x_max, n_points):\n",
    "    x = x_min\n",
    "    dx = (x_max - x_min) / n_points\n",
    "    while x < x_max:\n",
    "        print(x, f(x))\n",
    "        x += dx\n",
    "\n",
    "def plot_function(x_values, y_values, title = \"An unnamed plot\", x_label = \"X Values\", y_label = \"Y Values\", subtitle = \"An unnamed subtitle\", save_fig = False):\n",
    "    plt.figure(figsize = (6,5))\n",
    "    plt.plot(x_values, y_values)\n",
    "    plt.title(title, fontsize = 14)\n",
    "    plt.suptitle(subtitle, fontsize = 12)\n",
    "    plt.xlabel(x_label, fontsize = 12)\n",
    "    plt.ylabel(y_label, fontsize = 12)\n",
    "    if save_fig:\n",
    "        filename = title.replace(\" \", \"_\") + \".png\"\n",
    "        plt.savefig(filename)\n",
    "    plt.show()"
   ]
  },
  {
   "cell_type": "markdown",
   "metadata": {},
   "source": [
    "----\n",
    "#### Exponential functions definition\n",
    "> def normalize(x, x_min, x_max):\n",
    ">> return (x - x_min) / (x_max - x_min)\n",
    "\n",
    "> a: amplitude (y-intercept)  \n",
    "> b: growth rate  \n",
    "> x: time  \n",
    "> def exponential_function(a, b, min = 0, max = 100, points = 100, y_range_min = 0, y_range_max = 100):\n",
    ">> x_values = np.linspace(min, max, points) \n",
    ">> y_values = a * np.exp(b * x_values)  \n",
    ">> y_values = normalize(y_values, np.min(y_values), np.max(y_values))  \n",
    ">> return x_values, y_values  "
   ]
  },
  {
   "cell_type": "code",
   "execution_count": null,
   "metadata": {},
   "outputs": [],
   "source": [
    "def normalize(x, x_min, x_max):\n",
    "    return (x - x_min) / (x_max - x_min)\n",
    "\n",
    "# a: amplitude (y-intercept)\n",
    "# b: growth rate\n",
    "# x: time\n",
    "def exponential_function(a, b, min = 0, max = 100, points = 100, y_range_min = 0, y_range_max = 100):\n",
    "    x_values = np.linspace(min, max, points)\n",
    "    y_values = a * np.exp(b * x_values)\n",
    "    y_values = normalize(y_values, np.min(y_values), np.max(y_values))\n",
    "    \n",
    "    return x_values, y_values"
   ]
  },
  {
   "cell_type": "markdown",
   "metadata": {},
   "source": [
    "### My probabilities :)\n",
    "\n",
    "#### Main functions:\n",
    "\n",
    "#### Probabilities: Eating, Sleeping, Peeing"
   ]
  },
  {
   "cell_type": "markdown",
   "metadata": {},
   "source": [
    "----\n",
    "#### Eating\n",
    "P(E): Probability of Eating (defined by hunger level)\n",
    "- a: 1\n",
    "- b: 0.05\n",
    "- min: 0\n",
    "- max: 100"
   ]
  },
  {
   "cell_type": "code",
   "execution_count": null,
   "metadata": {},
   "outputs": [],
   "source": [
    "x_values, y_values = exponential_function(a = 1, b = 0.05, min = 0, max = 100)\n",
    "plot_function(x_values=x_values, y_values=y_values, title = \"Probability of eating based on Hunger Level\", y_label = \"P(E)\", x_label = \"Hunger Level (HL)\", subtitle=\"a: 1, b: 0.05, 0-100\")"
   ]
  },
  {
   "cell_type": "markdown",
   "metadata": {},
   "source": [
    "----\n",
    "#### Sleeping\n",
    "P(S): Probability of Sleeping (defined by tiredness level)\n",
    "- a: 1\n",
    "- b: 0.4\n",
    "- min: 0\n",
    "- max: 100"
   ]
  },
  {
   "cell_type": "code",
   "execution_count": null,
   "metadata": {},
   "outputs": [],
   "source": [
    "x_values, y_values = exponential_function(a = 1, b = 0.4, min = 0, max = 100)\n",
    "plot_function(x_values=x_values, y_values=y_values, title = \"Probability of going to sleep based on Tiredness Level\", y_label = \"P(S)\", x_label = \"Tiredness Level (TL)\", subtitle = \"a: 1, b: 0.4, 0-100\", save_fig=True)"
   ]
  },
  {
   "cell_type": "markdown",
   "metadata": {},
   "source": [
    "----\n",
    "#### Peeing\n",
    "P(S): Probability of Sleeping (defined by tiredness level)\n",
    "- a: 1\n",
    "- b: 0.1\n",
    "- min: 0\n",
    "- max: 100"
   ]
  },
  {
   "cell_type": "code",
   "execution_count": null,
   "metadata": {},
   "outputs": [],
   "source": [
    "x_values, y_values = exponential_function(a = 1, b = 0.1, min = 0, max = 100)\n",
    "plot_function(x_values=x_values, y_values=y_values, title = \"Probability of going to Bathroom based on bladder fullness\", y_label = \"P(B)\", x_label = \"Bladder fullness Level\", save_fig=True)"
   ]
  },
  {
   "cell_type": "markdown",
   "metadata": {},
   "source": [
    "### After defining my variables\n",
    "#### Questions to answer:\n",
    "- How do the state variables change as time progresses?\n",
    "- How do actions impact the state variables?\n",
    "\n",
    "WILL BE ANSWERED IN TESTING AGENT IPYNB"
   ]
  }
 ],
 "metadata": {
  "kernelspec": {
   "display_name": "MLProject",
   "language": "python",
   "name": "python3"
  },
  "language_info": {
   "codemirror_mode": {
    "name": "ipython",
    "version": 3
   },
   "file_extension": ".py",
   "mimetype": "text/x-python",
   "name": "python",
   "nbconvert_exporter": "python",
   "pygments_lexer": "ipython3",
   "version": "3.11.9"
  }
 },
 "nbformat": 4,
 "nbformat_minor": 2
}
